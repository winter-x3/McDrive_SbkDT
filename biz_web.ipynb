{
 "cells": [
  {
   "cell_type": "code",
   "execution_count": 1,
   "metadata": {},
   "outputs": [],
   "source": [
    "from selenium import webdriver\n",
    "from selenium.webdriver.common.by import By\n",
    "from selenium.webdriver import ActionChains\n",
    "from selenium.webdriver.support.ui import WebDriverWait\n",
    "from selenium.webdriver.support import expected_conditions as EC\n",
    "\n",
    "import warnings\n",
    "warnings.simplefilter(action=\"ignore\")\n",
    "import time\n",
    "import pandas as pd"
   ]
  },
  {
   "cell_type": "code",
   "execution_count": 26,
   "metadata": {},
   "outputs": [],
   "source": [
    "driver = webdriver.Chrome()\n",
    "url = \"https://sg.sbiz.or.kr/godo/index.sg\"\n",
    "driver.get(url)"
   ]
  },
  {
   "cell_type": "code",
   "execution_count": 27,
   "metadata": {},
   "outputs": [],
   "source": [
    "df = pd.read_csv('data/스타벅스_매장정보.csv', encoding='utf-8')\n",
    "address_list = (df['address']).tolist()"
   ]
  },
  {
   "cell_type": "code",
   "execution_count": 76,
   "metadata": {},
   "outputs": [],
   "source": [
    "def input_address(driver, address):\n",
    "    \n",
    "    #검색 창에 주소 입력\n",
    "    search_box = driver.find_element(By.CSS_SELECTOR, \"#searchAddress\")\n",
    "    search_box.clear()\n",
    "    search_box.send_keys(address)\n",
    "\n",
    "    #검색 버튼 클릭\n",
    "    time.sleep(1)\n",
    "    element = driver.find_element(By.CSS_SELECTOR, \"#layerPopAddressMove\")\n",
    "    driver.execute_script(\"arguments[0].click();\", element)\n",
    "\n",
    "    #첫 번째 검색 결과 클릭\n",
    "    time.sleep(1)\n",
    "    address_list_element = driver.find_element(By.CSS_SELECTOR, \"#adrsList > li > label\")\n",
    "    driver.execute_script(\"arguments[0].click();\", address_list_element)\n",
    "\n",
    "    #다음 버튼\n",
    "    time.sleep(1)\n",
    "    next_button = driver.find_element(By.CSS_SELECTOR, \"#container > div:nth-child(1) > div:nth-child(3) > div.foot > a:nth-child(2) > span\")\n",
    "    driver.execute_script(\"arguments[0].click();\", next_button)\n",
    "\n",
    "def zoom_in_out(driver):\n",
    "    \n",
    "    #가끔 검색이 제대로 되지 않음\n",
    "    zoom_in = driver.find_element(By.CSS_SELECTOR, \"#container > div.custom_zoomcontrol > div:nth-child(3) > a:nth-child(2)\")\n",
    "    zoom_out = driver.find_element(By.CSS_SELECTOR, \"#container > div.custom_zoomcontrol > div:nth-child(3) > a:nth-child(1)\")\n",
    "    driver.execute_script(\"arguments[0].click();\", zoom_in)\n",
    "    driver.execute_script(\"arguments[0].click();\", zoom_out)\n",
    "\n",
    "def select_map_options(driver):\n",
    "    \n",
    "    #맵 포인터 클릭\n",
    "    time.sleep(1)\n",
    "    sanggwon_button = driver.find_element(By.CSS_SELECTOR, \"#map > div:nth-child(1) > div > div:nth-child(6) > div:nth-child(2) > div > ul > li.child > label\")\n",
    "    sanggwon_button.click()\n",
    "\n",
    "    #반경 내 상권 정보 열람\n",
    "    time.sleep(1)\n",
    "    bankyung_button = driver.find_element(By.CSS_SELECTOR, \"#map > div:nth-child(1) > div > div:nth-child(6) > div:nth-child(2) > div > ul > li.child > div > ul > li:nth-child(2) > label\")\n",
    "    bankyung_button.click()\n",
    "\n",
    "    #반경 거리 700m\n",
    "    time.sleep(1)\n",
    "    bankyung = driver.find_element(By.CSS_SELECTOR, \"#auto_circle > div > div.midd > ul > li:nth-child(7) > label\")\n",
    "    bankyung.click()\n",
    "\n",
    "    #확인 버튼\n",
    "    time.sleep(1)\n",
    "    element = driver.find_element(By.CSS_SELECTOR, \"#auto_circle > div > div.foot > a:nth-child(2) > span\")\n",
    "    element.click()\n",
    "\n",
    "    #분석 버튼\n",
    "    time.sleep(1)\n",
    "    analyze_button = driver.find_element(By.CSS_SELECTOR, \"#map > div:nth-child(1) > div > div:nth-child(6) > div:nth-child(3) > img\")\n",
    "    analyze_button.click()\n",
    "\n",
    "def analyze_sales_data(driver):\n",
    "    sales_data = []\n",
    "\n",
    "    # 첫 페이지에서 이동하여 데이터 수집 (Upso : 반경 내 업소 수, SalesAmt : 월 평균 매출액)\n",
    "    some_tag1 = driver.find_element(By.CSS_SELECTOR, \"#page1 > div.report-pop-layer > span:nth-child(3)\")\n",
    "    action = ActionChains(driver)\n",
    "    action.move_to_element(some_tag1).perform()\n",
    "\n",
    "    time.sleep(2)\n",
    "    Upso = driver.find_element(By.CSS_SELECTOR, \"#page1 > div.report-pop-layer > div.analysis-section.analysis-01 > div.analysis-content > div:nth-child(1) > div > div > span\").text\n",
    "    sales_data.append(Upso)\n",
    "    SalesAmt = driver.find_element(By.CSS_SELECTOR, \"#salesSmryInfoCurSaleAmt\").text\n",
    "    sales_data.append(SalesAmt)\n",
    "\n",
    "    # 두 번째 페이지로 이동하여 데이터 수집 (FlowPop : 유동인구, EmpPop : 직장인구, AbodePop : 주거인구, EmpAvgCo : 주거인구 평균소득)\n",
    "    time.sleep(1)\n",
    "    some_tag2 = driver.find_element(By.CSS_SELECTOR, \"#page1 > div.report-pop-layer > span:nth-child(5)\")\n",
    "    action.move_to_element(some_tag2).perform()\n",
    "\n",
    "    time.sleep(2)\n",
    "    FlowPop = driver.find_element(By.CSS_SELECTOR, \"#flowPopSmryInfoFlowPop\").text\n",
    "    sales_data.append(FlowPop)\n",
    "    EmpPop = driver.find_element(By.CSS_SELECTOR, \"#empAbodePopSmryInfoEmpPop\").text\n",
    "    sales_data.append(EmpPop)\n",
    "    AbodePop = driver.find_element(By.CSS_SELECTOR, \"#empAbodePopSmryInfoAbodePop\").text\n",
    "    sales_data.append(AbodePop)\n",
    "    EmpAvgCo = driver.find_element(By.CSS_SELECTOR, \"#empAbodePopSmryInfoEmpAvgCo\").text\n",
    "    sales_data.append(EmpAvgCo)\n",
    "\n",
    "def close_report(driver):\n",
    "\n",
    "    #창 닫기\n",
    "    time.sleep(1)\n",
    "    driver.find_element(By.XPATH ,'//*[@id=\"bind\"]/div[1]/a').click()"
   ]
  },
  {
   "cell_type": "code",
   "execution_count": 65,
   "metadata": {},
   "outputs": [],
   "source": [
    "# 실행\n",
    "address = '서울특별시 노원구 동일로 1015 (공릉동)'\n",
    "input_address(driver, address)\n",
    "zoom_in_out(driver)\n",
    "select_map_options(driver)"
   ]
  },
  {
   "cell_type": "code",
   "execution_count": 77,
   "metadata": {},
   "outputs": [
    {
     "name": "stdout",
     "output_type": "stream",
     "text": [
      "[]\n"
     ]
    }
   ],
   "source": [
    "sales_data = []\n",
    "\n",
    "    # 첫 페이지에서 이동하여 데이터 수집 (Upso : 반경 내 업소 수, SalesAmt : 월 평균 매출액)\n",
    "    some_tag1 = driver.find_element(By.CSS_SELECTOR, \"#page1 > div.report-pop-layer > span:nth-child(3)\")\n",
    "    action = ActionChains(driver)\n",
    "    action.move_to_element(some_tag1).perform()\n",
    "\n",
    "    time.sleep(2)\n",
    "    Upso = driver.find_element(By.CSS_SELECTOR, \"#page1 > div.report-pop-layer > div.analysis-section.analysis-01 > div.analysis-content > div:nth-child(1) > div > div > span\").text\n",
    "    sales_data.append(Upso)\n",
    "    SalesAmt = driver.find_element(By.CSS_SELECTOR, \"#salesSmryInfoCurSaleAmt\").text\n",
    "    sales_data.append(SalesAmt)\n",
    "\n",
    "    # 두 번째 페이지로 이동하여 데이터 수집 (FlowPop : 유동인구, EmpPop : 직장인구, AbodePop : 주거인구, EmpAvgCo : 주거인구 평균소득)\n",
    "    time.sleep(1)\n",
    "    some_tag2 = driver.find_element(By.CSS_SELECTOR, \"#page1 > div.report-pop-layer > span:nth-child(5)\")\n",
    "    action.move_to_element(some_tag2).perform()\n",
    "\n",
    "    time.sleep(2)\n",
    "    FlowPop = driver.find_element(By.CSS_SELECTOR, \"#flowPopSmryInfoFlowPop\").text\n",
    "    sales_data.append(FlowPop)\n",
    "    EmpPop = driver.find_element(By.CSS_SELECTOR, \"#empAbodePopSmryInfoEmpPop\").text\n",
    "    sales_data.append(EmpPop)\n",
    "    AbodePop = driver.find_element(By.CSS_SELECTOR, \"#empAbodePopSmryInfoAbodePop\").text\n",
    "    sales_data.append(AbodePop)\n",
    "    EmpAvgCo = driver.find_element(By.CSS_SELECTOR, \"#empAbodePopSmryInfoEmpAvgCo\").text\n",
    "    sales_data.append(EmpAvgCo)"
   ]
  },
  {
   "cell_type": "code",
   "execution_count": null,
   "metadata": {},
   "outputs": [],
   "source": [
    "close_report(driver)\n",
    "print(sales_data)"
   ]
  },
  {
   "cell_type": "code",
   "execution_count": 64,
   "metadata": {},
   "outputs": [
    {
     "name": "stdout",
     "output_type": "stream",
     "text": [
      "[]\n",
      "[]\n",
      "예상매출 정보를 찾을 수 없습니다. 주소: 경기도 구리시 갈매순환로 148 (갈매동) 1-2층\n"
     ]
    },
    {
     "ename": "KeyboardInterrupt",
     "evalue": "",
     "output_type": "error",
     "traceback": [
      "\u001b[1;31m---------------------------------------------------------------------------\u001b[0m",
      "\u001b[1;31mKeyboardInterrupt\u001b[0m                         Traceback (most recent call last)",
      "Cell \u001b[1;32mIn[64], line 15\u001b[0m\n\u001b[0;32m     11\u001b[0m select_map_options(driver)\n\u001b[0;32m     13\u001b[0m time\u001b[38;5;241m.\u001b[39msleep(\u001b[38;5;241m10\u001b[39m)\n\u001b[1;32m---> 15\u001b[0m analyze_sales_data(driver)\n\u001b[0;32m     16\u001b[0m close_report(driver)\n\u001b[0;32m     18\u001b[0m \u001b[38;5;28mprint\u001b[39m(sales_data)\n",
      "Cell \u001b[1;32mIn[46], line 66\u001b[0m, in \u001b[0;36manalyze_sales_data\u001b[1;34m(driver)\u001b[0m\n\u001b[0;32m     63\u001b[0m action \u001b[38;5;241m=\u001b[39m ActionChains(driver)\n\u001b[0;32m     64\u001b[0m action\u001b[38;5;241m.\u001b[39mmove_to_element(some_tag1)\u001b[38;5;241m.\u001b[39mperform()\n\u001b[1;32m---> 66\u001b[0m time\u001b[38;5;241m.\u001b[39msleep(\u001b[38;5;241m1\u001b[39m)\n\u001b[0;32m     67\u001b[0m Upso \u001b[38;5;241m=\u001b[39m driver\u001b[38;5;241m.\u001b[39mfind_element(By\u001b[38;5;241m.\u001b[39mCSS_SELECTOR, \u001b[38;5;124m\"\u001b[39m\u001b[38;5;124m#page1 > div.report-pop-layer > div.analysis-section.analysis-01 > div.analysis-content > div:nth-child(1) > div > div > span\u001b[39m\u001b[38;5;124m\"\u001b[39m)\u001b[38;5;241m.\u001b[39mtext\n\u001b[0;32m     68\u001b[0m sales_data\u001b[38;5;241m.\u001b[39mappend(Upso)\n",
      "\u001b[1;31mKeyboardInterrupt\u001b[0m: "
     ]
    }
   ],
   "source": [
    "from selenium.webdriver import ActionChains\n",
    "\n",
    "data_list=[]\n",
    "\n",
    "for address in address_list:\n",
    "    try:\n",
    "        sales_data = []\n",
    "\n",
    "        input_address(driver, address)\n",
    "        zoom_in_out(driver)\n",
    "        select_map_options(driver)\n",
    "\n",
    "        time.sleep(10)\n",
    "\n",
    "        analyze_sales_data(driver)\n",
    "        close_report(driver)\n",
    "\n",
    "        print(sales_data)\n",
    "\n",
    "        data_list.append(sales_data)\n",
    "\n",
    "    except Exception as e:\n",
    "        print(f\"예상매출 정보를 찾을 수 없습니다. 주소: {address}\")\n",
    "        # 오류가 발생하면 모든 판매 정보를 0으로 설정합니다.\n",
    "        sales_data = [address] + [0] * 6\n",
    "        data_list.append(sales_data)"
   ]
  },
  {
   "cell_type": "code",
   "execution_count": null,
   "metadata": {},
   "outputs": [],
   "source": []
  }
 ],
 "metadata": {
  "kernelspec": {
   "display_name": "base",
   "language": "python",
   "name": "python3"
  },
  "language_info": {
   "codemirror_mode": {
    "name": "ipython",
    "version": 3
   },
   "file_extension": ".py",
   "mimetype": "text/x-python",
   "name": "python",
   "nbconvert_exporter": "python",
   "pygments_lexer": "ipython3",
   "version": "3.12.4"
  }
 },
 "nbformat": 4,
 "nbformat_minor": 2
}
