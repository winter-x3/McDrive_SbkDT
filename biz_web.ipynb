{
 "cells": [
  {
   "cell_type": "code",
   "execution_count": 74,
   "metadata": {},
   "outputs": [],
   "source": [
    "from selenium import webdriver\n",
    "from selenium.webdriver.common.by import By\n",
    "from selenium.webdriver import ActionChains\n",
    "from selenium.webdriver.support.ui import WebDriverWait\n",
    "from selenium.webdriver.support import expected_conditions as EC\n",
    "\n",
    "import warnings\n",
    "warnings.simplefilter(action=\"ignore\")\n",
    "import time\n",
    "import pandas as pd"
   ]
  },
  {
   "cell_type": "code",
   "execution_count": 105,
   "metadata": {},
   "outputs": [],
   "source": [
    "driver = webdriver.Chrome()\n",
    "url = \"https://sg.sbiz.or.kr/godo/index.sg\"\n",
    "driver.get(url)"
   ]
  },
  {
   "cell_type": "code",
   "execution_count": 84,
   "metadata": {},
   "outputs": [],
   "source": [
    "df = pd.read_csv('data/스타벅스_매장정보.csv', encoding='utf-8')\n",
    "address_list = (df['address']).tolist()"
   ]
  },
  {
   "cell_type": "code",
   "execution_count": 109,
   "metadata": {},
   "outputs": [],
   "source": [
    "def input_address(driver, address):\n",
    "    \n",
    "    #검색 창에 주소 입력\n",
    "    search_box = driver.find_element(By.CSS_SELECTOR, \"#searchAddress\")\n",
    "    search_box.clear()\n",
    "    search_box.send_keys(address)\n",
    "\n",
    "    #검색 버튼 클릭\n",
    "    time.sleep(1)\n",
    "    element = driver.find_element(By.ID, \"layerPopAddressMove\")\n",
    "    driver.execute_script(\"arguments[0].click();\", element)\n",
    "\n",
    "    #첫 번째 검색 결과 클릭\n",
    "    time.sleep(1)\n",
    "    address_list_element = driver.find_element(By.CSS_SELECTOR, \"#adrsList > li > label\")\n",
    "    driver.execute_script(\"arguments[0].click();\", address_list_element)\n",
    "\n",
    "    #다음 버튼\n",
    "    time.sleep(1)\n",
    "    next_button = driver.find_element(By.CSS_SELECTOR, \"#container > div:nth-child(1) > div:nth-child(3) > div.foot > a:nth-child(2) > span\")\n",
    "    driver.execute_script(\"arguments[0].click();\", next_button)\n",
    "\n",
    "def zoom_in_out(driver):\n",
    "    \n",
    "    #가끔 검색이 제대로 되지 않음\n",
    "    zoom_in = driver.find_element(By.CSS_SELECTOR, \"#container > div.custom_zoomcontrol > div:nth-child(3) > a:nth-child(2)\")\n",
    "    zoom_out = driver.find_element(By.CSS_SELECTOR, \"#container > div.custom_zoomcontrol > div:nth-child(3) > a:nth-child(1)\")\n",
    "    driver.execute_script(\"arguments[0].click();\", zoom_in)\n",
    "    driver.execute_script(\"arguments[0].click();\", zoom_out)\n",
    "\n",
    "def select_map_options(driver):\n",
    "    \n",
    "    #맵 포인터 클릭\n",
    "    time.sleep(1)\n",
    "    sanggwon_button = driver.find_element(By.CSS_SELECTOR, \"#map > div:nth-child(1) > div > div:nth-child(6) > div:nth-child(2) > div > ul > li.child > label\")\n",
    "    sanggwon_button.click()\n",
    "\n",
    "    #반경 내 상권 정보 열람\n",
    "    time.sleep(1)\n",
    "    bankyung_button = driver.find_element(By.CSS_SELECTOR, \"#map > div:nth-child(1) > div > div:nth-child(6) > div:nth-child(2) > div > ul > li.child > div > ul > li:nth-child(2) > label\")\n",
    "    bankyung_button.click()\n",
    "\n",
    "    #반경 거리 700m\n",
    "    time.sleep(1)\n",
    "    bankyung = driver.find_element(By.CSS_SELECTOR, \"#auto_circle > div > div.midd > ul > li:nth-child(7) > label\")\n",
    "    bankyung.click()\n",
    "\n",
    "    #확인 버튼\n",
    "    time.sleep(1)\n",
    "    element = driver.find_element(By.CSS_SELECTOR, \"#auto_circle > div > div.foot > a:nth-child(2) > span\")\n",
    "    element.click()\n",
    "\n",
    "    #분석 버튼\n",
    "    time.sleep(1)\n",
    "    analyze_button = driver.find_element(By.CSS_SELECTOR, \"#map > div:nth-child(1) > div > div:nth-child(6) > div:nth-child(3) > img\")\n",
    "    analyze_button.click()\n",
    "\n",
    "def analyze_sales_data(driver):\n",
    "    sales_data = []\n",
    "\n",
    "    # 첫 번째 태그로 이동하여 데이터 수집\n",
    "    some_tag1 = driver.find_element(By.CSS_SELECTOR, \"#page1 > div.report-pop-layer > span:nth-child(3)\")\n",
    "    action = ActionChains(driver)\n",
    "    action.move_to_element(some_tag1).perform()\n",
    "\n",
    "    time.sleep(1)\n",
    "    upso = driver.find_element(By.CSS_SELECTOR, \"#page1 > div.report-pop-layer > div.analysis-section.analysis-01 > div.analysis-content > div:nth-child(1) > div > div > span\").text\n",
    "    sales_data.append(upso)\n",
    "    SalesAmt = driver.find_element(By.CSS_SELECTOR, \"#salesSmryInfoCurSaleAmt\").text\n",
    "    sales_data.append(SalesAmt)\n",
    "\n",
    "    # 두 번째 태그로 이동하여 데이터 수집\n",
    "    time.sleep(1)\n",
    "    some_tag2 = driver.find_element(By.CSS_SELECTOR, \"#page1 > div.report-pop-layer > span:nth-child(5)\")\n",
    "    action.move_to_element(some_tag2).perform()\n",
    "\n",
    "    time.sleep(1)\n",
    "    flowpop = driver.find_element(By.CSS_SELECTOR, \"#flowPopSmryInfoFlowPop\").text\n",
    "    sales_data.append(flowpop)\n",
    "    emppop = driver.find_element(By.CSS_SELECTOR, \"#empAbodePopSmryInfoEmpPop\").text\n",
    "    sales_data.append(emppop)\n",
    "    sales_info = driver.find_element(By.CSS_SELECTOR, \"#empAbodePopSmryInfoAbodePop\").text\n",
    "    sales_data.append(sales_info)\n",
    "    sales_info = driver.find_element(By.CSS_SELECTOR, \"#empAbodePopSmryInfoEmpAvgCo\").text\n",
    "    sales_data.append(sales_info)\n",
    "\n",
    "    return sales_data\n",
    "\n",
    "def close_report(driver):\n",
    "    time.sleep(1)\n",
    "    driver.find_element(By.XPATH ,'//*[@id=\"bind\"]/div[1]/a').click()"
   ]
  },
  {
   "cell_type": "code",
   "execution_count": 106,
   "metadata": {},
   "outputs": [],
   "source": [
    "# 실행\n",
    "address = '서울특별시 노원구 동일로 1015 (공릉동)'\n",
    "sales_data = []\n",
    "\n",
    "input_address(driver, address)\n",
    "zoom_in_out(driver)\n",
    "select_map_options(driver)"
   ]
  },
  {
   "cell_type": "code",
   "execution_count": 107,
   "metadata": {},
   "outputs": [],
   "source": [
    "element = driver.find_element(By.CSS_SELECTOR, \"#auto_circle > div > div.foot > a:nth-child(2) > span\")\n",
    "element.click()"
   ]
  },
  {
   "cell_type": "code",
   "execution_count": 108,
   "metadata": {},
   "outputs": [],
   "source": [
    "input_search_value(driver, '1000')"
   ]
  },
  {
   "cell_type": "code",
   "execution_count": null,
   "metadata": {},
   "outputs": [],
   "source": [
    "sales_data = analyze_sales_data(driver)\n",
    "close_report(driver)\n",
    "\n",
    "# 주소에 대한 정보를 sales_data에 추가\n",
    "sales_data.insert(0, address)\n",
    "\n",
    "print('sales_data:', sales_data)\n"
   ]
  },
  {
   "cell_type": "code",
   "execution_count": null,
   "metadata": {},
   "outputs": [],
   "source": []
  }
 ],
 "metadata": {
  "kernelspec": {
   "display_name": "base",
   "language": "python",
   "name": "python3"
  },
  "language_info": {
   "codemirror_mode": {
    "name": "ipython",
    "version": 3
   },
   "file_extension": ".py",
   "mimetype": "text/x-python",
   "name": "python",
   "nbconvert_exporter": "python",
   "pygments_lexer": "ipython3",
   "version": "3.12.4"
  }
 },
 "nbformat": 4,
 "nbformat_minor": 2
}
