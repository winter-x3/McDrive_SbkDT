{
 "cells": [
  {
   "cell_type": "code",
   "execution_count": 1,
   "metadata": {},
   "outputs": [],
   "source": [
    "from selenium import webdriver\n",
    "from selenium.webdriver.common.by import By\n",
    "import warnings\n",
    "warnings.simplefilter(action=\"ignore\")\n",
    "import time\n",
    "import pandas as pd"
   ]
  },
  {
   "cell_type": "code",
   "execution_count": 3,
   "metadata": {},
   "outputs": [],
   "source": [
    "#1. 웹 페이지 열기\n",
    "driver = webdriver.Chrome()\n",
    "\n",
    "url = \"https://www.starbucks.co.kr/store/store_map.do\"\n",
    "driver.get(url)\n",
    "time.sleep(2)"
   ]
  },
  {
   "cell_type": "code",
   "execution_count": 4,
   "metadata": {},
   "outputs": [
    {
     "data": {
      "text/plain": [
       "479"
      ]
     },
     "execution_count": 4,
     "metadata": {},
     "output_type": "execute_result"
    }
   ],
   "source": [
    "#2. 스타벅스 DT 매장만 화면에 띄우기\n",
    "driver.find_element(By.CSS_SELECTOR, \"#container > div > form > fieldset > div > section > article.find_store_cont > header > p > a\").click()\n",
    "time.sleep(2)\n",
    "driver.find_element(By.CSS_SELECTOR, \"dl.opt_select_dl1>dd.right>.icon02\").click()\n",
    "driver.find_element(By.CSS_SELECTOR, \"#storeMap > form > fieldset > div > ul > li.li2 > a\").click()\n",
    "\n",
    "#3. 전체 매장 수 확인하기\n",
    "time.sleep(2)\n",
    "num = driver.find_element(By.CSS_SELECTOR, \"#container > div > form > fieldset > div > section > article.find_store_cont > article > article:nth-child(2) > div.result_num_wrap.myStoreInfo > span\").text\n",
    "num=int(num)\n",
    "num"
   ]
  },
  {
   "cell_type": "code",
   "execution_count": 7,
   "metadata": {},
   "outputs": [],
   "source": [
    "#4. 화면에 나오지 않는 부분은 스크롤 하면서 매장정보 (매점명, 주소, 위도, 경도) 저장장\n",
    "sbks=[]\n",
    "\n",
    "from selenium.webdriver import ActionChains\n",
    "for i in range(1,num+1):\n",
    "    some_tag = driver.find_element(By.CSS_SELECTOR, \"#mCSB_1_container > ul > li:nth-child({}) > p\".format(i))\n",
    "    action = ActionChains(driver)\n",
    "    action.move_to_element(some_tag).perform()\n",
    "    time.sleep(1)\n",
    "    title = driver.find_element(By.CSS_SELECTOR, \"#mCSB_1_container > ul > li:nth-child({}) > strong\".format(i)).text\n",
    "    address = driver.find_element(By.CSS_SELECTOR, \"#mCSB_1_container > ul > li:nth-child({}) > p\".format(i)).text\n",
    "\n",
    "    data = driver.find_elements(By.CSS_SELECTOR, \"#mCSB_1_container > ul > li:nth-child({})\".format(i))\n",
    "    lng = [lng.get_attribute(\"data-long\") for lng in data]\n",
    "    lat = [lat.get_attribute(\"data-lat\") for lat in data]\n",
    "\n",
    "    sbks.append({\n",
    "                \"name\":title,\n",
    "                \"address\":address,\n",
    "                \"lat\":lat,\n",
    "                \"lng\":lng\n",
    "            })"
   ]
  },
  {
   "cell_type": "code",
   "execution_count": 8,
   "metadata": {},
   "outputs": [
    {
     "data": {
      "text/html": [
       "<div>\n",
       "<style scoped>\n",
       "    .dataframe tbody tr th:only-of-type {\n",
       "        vertical-align: middle;\n",
       "    }\n",
       "\n",
       "    .dataframe tbody tr th {\n",
       "        vertical-align: top;\n",
       "    }\n",
       "\n",
       "    .dataframe thead th {\n",
       "        text-align: right;\n",
       "    }\n",
       "</style>\n",
       "<table border=\"1\" class=\"dataframe\">\n",
       "  <thead>\n",
       "    <tr style=\"text-align: right;\">\n",
       "      <th></th>\n",
       "      <th>name</th>\n",
       "      <th>address</th>\n",
       "      <th>lat</th>\n",
       "      <th>lng</th>\n",
       "    </tr>\n",
       "  </thead>\n",
       "  <tbody>\n",
       "    <tr>\n",
       "      <th>0</th>\n",
       "      <td>공릉DT</td>\n",
       "      <td>서울특별시 노원구 동일로 1015 (공릉동)</td>\n",
       "      <td>37.6206884</td>\n",
       "      <td>127.0743116</td>\n",
       "    </tr>\n",
       "    <tr>\n",
       "      <th>1</th>\n",
       "      <td>태릉입구역DT</td>\n",
       "      <td>서울특별시 노원구 화랑로 469 (공릉동)</td>\n",
       "      <td>37.61942</td>\n",
       "      <td>127.07932</td>\n",
       "    </tr>\n",
       "    <tr>\n",
       "      <th>2</th>\n",
       "      <td>구리갈매DT</td>\n",
       "      <td>경기도 구리시 갈매순환로 148 (갈매동) 1-2층</td>\n",
       "      <td>37.63237</td>\n",
       "      <td>127.1226</td>\n",
       "    </tr>\n",
       "    <tr>\n",
       "      <th>3</th>\n",
       "      <td>도봉로DT</td>\n",
       "      <td>서울특별시 도봉구 도봉로 635 (쌍문동)</td>\n",
       "      <td>37.66118059</td>\n",
       "      <td>127.0416300</td>\n",
       "    </tr>\n",
       "    <tr>\n",
       "      <th>4</th>\n",
       "      <td>종암DT</td>\n",
       "      <td>서울특별시 성북구 종암로 17 (종암동)</td>\n",
       "      <td>37.5919525</td>\n",
       "      <td>127.0360401</td>\n",
       "    </tr>\n",
       "    <tr>\n",
       "      <th>...</th>\n",
       "      <td>...</td>\n",
       "      <td>...</td>\n",
       "      <td>...</td>\n",
       "      <td>...</td>\n",
       "    </tr>\n",
       "    <tr>\n",
       "      <th>474</th>\n",
       "      <td>제주한담해변DT</td>\n",
       "      <td>제주특별자치도 제주시 애월읍 일주서로 6142</td>\n",
       "      <td>33.458479</td>\n",
       "      <td>126.311091</td>\n",
       "    </tr>\n",
       "    <tr>\n",
       "      <th>475</th>\n",
       "      <td>제주서귀포남원DT</td>\n",
       "      <td>제주특별자치도 서귀포시 남원읍 일주동로 7129</td>\n",
       "      <td>33.2828825</td>\n",
       "      <td>126.718877</td>\n",
       "    </tr>\n",
       "    <tr>\n",
       "      <th>476</th>\n",
       "      <td>서귀포DT</td>\n",
       "      <td>제주특별자치도 서귀포시 일주서로 11 (강정동)</td>\n",
       "      <td>33.2492775</td>\n",
       "      <td>126.5065228</td>\n",
       "    </tr>\n",
       "    <tr>\n",
       "      <th>477</th>\n",
       "      <td>제주중문DT</td>\n",
       "      <td>제주특별자치도 서귀포시 천제연로 95(색달동)</td>\n",
       "      <td>33.2549983</td>\n",
       "      <td>126.4159058</td>\n",
       "    </tr>\n",
       "    <tr>\n",
       "      <th>478</th>\n",
       "      <td>제주모슬포DT</td>\n",
       "      <td>제주특별자치도 서귀포시 대정읍 일주서로 2549</td>\n",
       "      <td>33.2272873</td>\n",
       "      <td>126.2578882</td>\n",
       "    </tr>\n",
       "  </tbody>\n",
       "</table>\n",
       "<p>479 rows × 4 columns</p>\n",
       "</div>"
      ],
      "text/plain": [
       "          name                       address          lat          lng\n",
       "0         공릉DT      서울특별시 노원구 동일로 1015 (공릉동)   37.6206884  127.0743116\n",
       "1      태릉입구역DT       서울특별시 노원구 화랑로 469 (공릉동)     37.61942    127.07932\n",
       "2       구리갈매DT  경기도 구리시 갈매순환로 148 (갈매동) 1-2층     37.63237     127.1226\n",
       "3        도봉로DT       서울특별시 도봉구 도봉로 635 (쌍문동)  37.66118059  127.0416300\n",
       "4         종암DT        서울특별시 성북구 종암로 17 (종암동)   37.5919525  127.0360401\n",
       "..         ...                           ...          ...          ...\n",
       "474   제주한담해변DT     제주특별자치도 제주시 애월읍 일주서로 6142    33.458479   126.311091\n",
       "475  제주서귀포남원DT    제주특별자치도 서귀포시 남원읍 일주동로 7129   33.2828825   126.718877\n",
       "476      서귀포DT    제주특별자치도 서귀포시 일주서로 11 (강정동)   33.2492775  126.5065228\n",
       "477     제주중문DT     제주특별자치도 서귀포시 천제연로 95(색달동)   33.2549983  126.4159058\n",
       "478    제주모슬포DT    제주특별자치도 서귀포시 대정읍 일주서로 2549   33.2272873  126.2578882\n",
       "\n",
       "[479 rows x 4 columns]"
      ]
     },
     "execution_count": 8,
     "metadata": {},
     "output_type": "execute_result"
    }
   ],
   "source": [
    "#5. 데이터프레임으로 변환해서 보기 좋은 형태로 변환\n",
    "df_sbk=pd.DataFrame(sbks)\n",
    "\n",
    "def remove_after_newline(text):\n",
    "    return text.split('\\n')[0]\n",
    "\n",
    "df_sbk['address'] = df_sbk['address'].apply(remove_after_newline)\n",
    "\n",
    "df_sbk['lat'] = df_sbk['lat'].apply(lambda x: str(x[0])).str[:11]\n",
    "df_sbk['lng'] = df_sbk['lng'].apply(lambda x: str(x[0])).str[:11]\n",
    "df_sbk"
   ]
  },
  {
   "cell_type": "code",
   "execution_count": 9,
   "metadata": {},
   "outputs": [],
   "source": [
    "df_sbk.to_csv('data/스타벅스_매장정보.csv', index=False, encoding='utf-8-sig')"
   ]
  },
  {
   "cell_type": "code",
   "execution_count": null,
   "metadata": {},
   "outputs": [],
   "source": []
  }
 ],
 "metadata": {
  "kernelspec": {
   "display_name": "base",
   "language": "python",
   "name": "python3"
  },
  "language_info": {
   "codemirror_mode": {
    "name": "ipython",
    "version": 3
   },
   "file_extension": ".py",
   "mimetype": "text/x-python",
   "name": "python",
   "nbconvert_exporter": "python",
   "pygments_lexer": "ipython3",
   "version": "3.12.4"
  }
 },
 "nbformat": 4,
 "nbformat_minor": 2
}
